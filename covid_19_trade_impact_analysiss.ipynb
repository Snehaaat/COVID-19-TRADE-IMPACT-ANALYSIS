{
 "cells": [
  {
   "cell_type": "code",
   "execution_count": 127,
   "id": "06a40e6c-e5c5-4fb5-84d1-ca77cbd66bcc",
   "metadata": {},
   "outputs": [],
   "source": [
    "import pandas as pd"
   ]
  },
  {
   "cell_type": "code",
   "execution_count": 128,
   "id": "622358ff-746a-47b9-8f61-9dee3d41f967",
   "metadata": {},
   "outputs": [],
   "source": [
    "data = pd.read_csv(r'C:\\Users\\KIIT0001\\Downloads\\COVID-19-Trade-Impact-Data-Analysis-main\\COVID-19-Trade-Impact-Data-Analysis-main\\Data\\dataset-covid19-trade-impact.csv')\n"
   ]
  },
  {
   "cell_type": "code",
   "execution_count": 129,
   "id": "898e4b96-fb10-4bd5-8cb2-4fa38eac0d8f",
   "metadata": {},
   "outputs": [
    {
     "data": {
      "text/html": [
       "<div>\n",
       "<style scoped>\n",
       "    .dataframe tbody tr th:only-of-type {\n",
       "        vertical-align: middle;\n",
       "    }\n",
       "\n",
       "    .dataframe tbody tr th {\n",
       "        vertical-align: top;\n",
       "    }\n",
       "\n",
       "    .dataframe thead th {\n",
       "        text-align: right;\n",
       "    }\n",
       "</style>\n",
       "<table border=\"1\" class=\"dataframe\">\n",
       "  <thead>\n",
       "    <tr style=\"text-align: right;\">\n",
       "      <th></th>\n",
       "      <th>Direction</th>\n",
       "      <th>Year</th>\n",
       "      <th>Date</th>\n",
       "      <th>Weekday</th>\n",
       "      <th>Country</th>\n",
       "      <th>Commodity</th>\n",
       "      <th>Transport_Mode</th>\n",
       "      <th>Measure</th>\n",
       "      <th>Value</th>\n",
       "      <th>Cumulative</th>\n",
       "    </tr>\n",
       "  </thead>\n",
       "  <tbody>\n",
       "    <tr>\n",
       "      <th>0</th>\n",
       "      <td>Exports</td>\n",
       "      <td>2015</td>\n",
       "      <td>01/01/2015</td>\n",
       "      <td>Thursday</td>\n",
       "      <td>All</td>\n",
       "      <td>All</td>\n",
       "      <td>All</td>\n",
       "      <td>$</td>\n",
       "      <td>104000000</td>\n",
       "      <td>104000000</td>\n",
       "    </tr>\n",
       "    <tr>\n",
       "      <th>1</th>\n",
       "      <td>Exports</td>\n",
       "      <td>2015</td>\n",
       "      <td>02/01/2015</td>\n",
       "      <td>Friday</td>\n",
       "      <td>All</td>\n",
       "      <td>All</td>\n",
       "      <td>All</td>\n",
       "      <td>$</td>\n",
       "      <td>96000000</td>\n",
       "      <td>200000000</td>\n",
       "    </tr>\n",
       "    <tr>\n",
       "      <th>2</th>\n",
       "      <td>Exports</td>\n",
       "      <td>2015</td>\n",
       "      <td>03/01/2015</td>\n",
       "      <td>Saturday</td>\n",
       "      <td>All</td>\n",
       "      <td>All</td>\n",
       "      <td>All</td>\n",
       "      <td>$</td>\n",
       "      <td>61000000</td>\n",
       "      <td>262000000</td>\n",
       "    </tr>\n",
       "    <tr>\n",
       "      <th>3</th>\n",
       "      <td>Exports</td>\n",
       "      <td>2015</td>\n",
       "      <td>04/01/2015</td>\n",
       "      <td>Sunday</td>\n",
       "      <td>All</td>\n",
       "      <td>All</td>\n",
       "      <td>All</td>\n",
       "      <td>$</td>\n",
       "      <td>74000000</td>\n",
       "      <td>336000000</td>\n",
       "    </tr>\n",
       "    <tr>\n",
       "      <th>4</th>\n",
       "      <td>Exports</td>\n",
       "      <td>2015</td>\n",
       "      <td>05/01/2015</td>\n",
       "      <td>Monday</td>\n",
       "      <td>All</td>\n",
       "      <td>All</td>\n",
       "      <td>All</td>\n",
       "      <td>$</td>\n",
       "      <td>105000000</td>\n",
       "      <td>442000000</td>\n",
       "    </tr>\n",
       "  </tbody>\n",
       "</table>\n",
       "</div>"
      ],
      "text/plain": [
       "  Direction  Year        Date   Weekday Country Commodity Transport_Mode  \\\n",
       "0   Exports  2015  01/01/2015  Thursday     All       All            All   \n",
       "1   Exports  2015  02/01/2015    Friday     All       All            All   \n",
       "2   Exports  2015  03/01/2015  Saturday     All       All            All   \n",
       "3   Exports  2015  04/01/2015    Sunday     All       All            All   \n",
       "4   Exports  2015  05/01/2015    Monday     All       All            All   \n",
       "\n",
       "  Measure      Value  Cumulative  \n",
       "0       $  104000000   104000000  \n",
       "1       $   96000000   200000000  \n",
       "2       $   61000000   262000000  \n",
       "3       $   74000000   336000000  \n",
       "4       $  105000000   442000000  "
      ]
     },
     "execution_count": 129,
     "metadata": {},
     "output_type": "execute_result"
    }
   ],
   "source": [
    "data.head()"
   ]
  },
  {
   "cell_type": "code",
   "execution_count": 130,
   "id": "7be5a052-dea3-469f-8e63-4074b99933e9",
   "metadata": {},
   "outputs": [],
   "source": [
    "import matplotlib.pyplot as plt"
   ]
  },
  {
   "cell_type": "code",
   "execution_count": 131,
   "id": "f3b5c389-2eaa-4a99-bc37-2a12db67101e",
   "metadata": {},
   "outputs": [],
   "source": [
    "data_filtered = data[data['Year'].isin([2019, 2020, 2021])]\n"
   ]
  },
  {
   "cell_type": "code",
   "execution_count": 132,
   "id": "c49d1445-4d6a-48ed-84a1-434943c57417",
   "metadata": {},
   "outputs": [],
   "source": [
    "# Group by Year and Date and sum the cumulative values\n",
    "grouped_data = data_filtered.groupby(['Year', 'Date'])['Cumulative'].mean().reset_index()\n",
    "\n"
   ]
  },
  {
   "cell_type": "code",
   "execution_count": 154,
   "id": "5c8df232-1cb7-4132-8bfd-858fc1b8b83f",
   "metadata": {},
   "outputs": [],
   "source": [
    "# Plot\n",
    "plt.figure(figsize=(14, 7))\n",
    "for year in [2019, 2020, 2021]:\n",
    "    yearly_data = grouped_data[grouped_data['Year'] == year]\n",
    "    plt.plot(yearly_data['Date'], yearly_data['Cumulative'], label=f'Year {year}')\n",
    "\n",
    "plt.title('Overall Trade Trend (2019-2021)')\n",
    "plt.xlabel('Date')\n",
    "plt.ylabel('Cumulative Trade Value')\n",
    "plt.xticks(yearly_data['Date'][::30], rotation=45)\n",
    "plt.legend()\n",
    "plt.tight_layout()\n",
    "#plt.show()\n",
    "plt.close()"
   ]
  },
  {
   "cell_type": "code",
   "execution_count": 155,
   "id": "8395e5e5-faa6-44d2-a800-204bf6853010",
   "metadata": {},
   "outputs": [],
   "source": [
    "# Group by Year, Date, and Direction and sum the cumulative values\n",
    "grouped_direction = data_filtered.groupby(['Year', 'Date', 'Direction'])['Cumulative'].mean().reset_index()\n",
    "\n"
   ]
  },
  {
   "cell_type": "code",
   "execution_count": 156,
   "id": "ef47f8e8-0bc2-48fe-a55e-86965d8d109c",
   "metadata": {},
   "outputs": [],
   "source": [
    "# Plot\n",
    "plt.figure(figsize=(14, 7))\n",
    "for year in [2019, 2020, 2021]:\n",
    "    for direction in ['Exports', 'Imports']:\n",
    "        subset_data = grouped_direction[(grouped_direction['Year'] == year) & (grouped_direction['Direction'] == direction)]\n",
    "        plt.plot(subset_data['Date'], subset_data['Cumulative'], label=f'{direction} {year}')\n",
    "\n",
    "plt.title('Exports vs. Imports (2019-2021)')\n",
    "plt.xlabel('Date')\n",
    "plt.ylabel('Cumulative Trade Value')\n",
    "plt.xticks(subset_data['Date'][::30], rotation=45)\n",
    "plt.legend()\n",
    "plt.tight_layout()\n",
    "#plt.show()\n",
    "plt.close()"
   ]
  },
  {
   "cell_type": "code",
   "execution_count": 157,
   "id": "0d521574-089c-44dc-aaf7-6d24bce7e200",
   "metadata": {},
   "outputs": [],
   "source": [
    "# Group by Year, Commodity and sum the cumulative values for the last date of each year\n",
    "last_dates = data_filtered.groupby('Year')['Date'].max().values\n",
    "commodity_data = data_filtered[data_filtered['Date'].isin(last_dates)].groupby(['Year', 'Commodity'])['Cumulative'].mean().reset_index()\n",
    "\n"
   ]
  },
  {
   "cell_type": "code",
   "execution_count": 159,
   "id": "eee3add1-67a9-4db8-9c85-df23d236a3be",
   "metadata": {},
   "outputs": [],
   "source": [
    "# Calculate percentage change using transform\n",
    "commodity_data['Change_2019_2020'] = commodity_data.groupby('Commodity')['Cumulative'].transform(lambda x: x.pct_change().fillna(0))\n",
    "commodity_data['Change_2020_2021'] = commodity_data.groupby('Commodity')['Cumulative'].transform(lambda x: x.pct_change().shift(-1).fillna(0))\n"
   ]
  },
  {
   "cell_type": "code",
   "execution_count": 160,
   "id": "810664a3-cd4a-4862-8580-0c41be743058",
   "metadata": {},
   "outputs": [],
   "source": [
    "# Filter for commodities with the most significant changes\n",
    "top_commodities_2019_2020 = commodity_data[commodity_data['Year'] == 2020].sort_values('Change_2019_2020', ascending=False).head(10)\n",
    "top_commodities_2020_2021 = commodity_data[commodity_data['Year'] == 2021].sort_values('Change_2020_2021', ascending=False).head(10)\n",
    "\n"
   ]
  },
  {
   "cell_type": "code",
   "execution_count": 162,
   "id": "c9dc20c5-ad73-4b82-8a98-445e8a51963d",
   "metadata": {},
   "outputs": [],
   "source": [
    "# Plot\n",
    "fig, ax = plt.subplots(2, 1, figsize=(14, 14))\n",
    "\n",
    "ax[0].barh(top_commodities_2019_2020['Commodity'], top_commodities_2019_2020['Change_2019_2020']*100, color='skyblue')\n",
    "ax[0].set_title('Top 10 Commodities with Highest Growth in Trade Value (2019-2020)')\n",
    "ax[0].set_xlabel('% Change')\n",
    "ax[0].invert_yaxis()\n",
    "\n",
    "ax[1].barh(top_commodities_2020_2021['Commodity'], top_commodities_2020_2021['Change_2020_2021']*100, color='coral')\n",
    "ax[1].set_title('Top 10 Commodities with Highest Growth in Trade Value (2020-2021)')\n",
    "ax[1].set_xlabel('% Change')\n",
    "ax[1].invert_yaxis()\n",
    "\n",
    "plt.tight_layout()\n",
    "#plt.show()\n"
   ]
  },
  {
   "cell_type": "code",
   "execution_count": 165,
   "id": "642dafff-7197-4fd8-9e53-c652e63411f3",
   "metadata": {},
   "outputs": [],
   "source": [
    "# Group by Year, Transport_Mode and sum the cumulative values for the last date of each year\n",
    "transport_data = data_filtered[data_filtered['Date'].isin(last_dates)].groupby(['Year', 'Transport_Mode'])['Cumulative'].mean().reset_index()\n",
    "\n"
   ]
  },
  {
   "cell_type": "code",
   "execution_count": 166,
   "id": "0ad2eaa3-16ee-485d-9872-7d1b91d79dcf",
   "metadata": {},
   "outputs": [],
   "source": [
    "# Calculate percentage change using transform\n",
    "transport_data['Change_2019_2020'] = transport_data.groupby('Transport_Mode')['Cumulative'].transform(lambda x: x.pct_change().fillna(0))\n",
    "transport_data['Change_2020_2021'] = transport_data.groupby('Transport_Mode')['Cumulative'].transform(lambda x: x.pct_change().shift(-1).fillna(0))\n"
   ]
  },
  {
   "cell_type": "code",
   "execution_count": 167,
   "id": "8d9e6619-5caa-4452-95d9-5d727c3b1c90",
   "metadata": {},
   "outputs": [],
   "source": [
    "# Plot\n",
    "fig, ax = plt.subplots(2, 1, figsize=(14, 14))\n",
    "\n",
    "ax[0].barh(transport_data[transport_data['Year'] == 2020]['Transport_Mode'], transport_data[transport_data['Year'] == 2020]['Change_2019_2020']*100, color='skyblue')\n",
    "ax[0].set_title('Change in Trade Value by Transport Mode (2019-2020)')\n",
    "ax[0].set_xlabel('% Change')\n",
    "ax[0].invert_yaxis()\n",
    "\n",
    "ax[1].barh(transport_data[transport_data['Year'] == 2021]['Transport_Mode'], transport_data[transport_data['Year'] == 2021]['Change_2020_2021']*100, color='coral')\n",
    "ax[1].set_title('Change in Trade Value by Transport Mode (2020-2021)')\n",
    "ax[1].set_xlabel('% Change')\n",
    "ax[1].invert_yaxis()\n",
    "\n",
    "plt.tight_layout()\n",
    "#plt.show()"
   ]
  },
  {
   "cell_type": "code",
   "execution_count": 170,
   "id": "60f917d0-7d61-493f-a716-92ec56e97b39",
   "metadata": {},
   "outputs": [],
   "source": [
    "# Group by Year, Country and sum the cumulative values for the last date of each year\n",
    "country_data = data_filtered[data_filtered['Date'].isin(last_dates) & (data_filtered['Country'] != 'All')].groupby(['Year', 'Country'])['Cumulative'].mean().reset_index()\n",
    "\n",
    "\n",
    "\n"
   ]
  },
  {
   "cell_type": "code",
   "execution_count": 171,
   "id": "e91b4227-3ffc-4341-82fc-9661e8513f23",
   "metadata": {},
   "outputs": [],
   "source": [
    "# Calculate percentage change using transform\n",
    "country_data['Change_2019_2020'] = country_data.groupby('Country')['Cumulative'].transform(lambda x: x.pct_change().fillna(0))\n",
    "country_data['Change_2020_2021'] = country_data.groupby('Country')['Cumulative'].transform(lambda x: x.pct_change().shift(-1).fillna(0))\n"
   ]
  },
  {
   "cell_type": "code",
   "execution_count": 172,
   "id": "28fffb59-0b8b-4f0c-985d-da3213f9a958",
   "metadata": {},
   "outputs": [],
   "source": [
    "# Filter for countries with the most significant changes\n",
    "top_countries_2019_2020 = country_data[country_data['Year'] == 2020].sort_values('Change_2019_2020', ascending=False).head(10)\n",
    "top_countries_2020_2021 = country_data[country_data['Year'] == 2021].sort_values('Change_2020_2021', ascending=False).head(10)\n"
   ]
  },
  {
   "cell_type": "code",
   "execution_count": 173,
   "id": "3450ace3-3dca-4d5d-8f18-287ed7f31800",
   "metadata": {},
   "outputs": [],
   "source": [
    "# Plot\n",
    "fig, ax = plt.subplots(2, 1, figsize=(14, 14))\n",
    "\n",
    "ax[0].barh(top_countries_2019_2020['Country'], top_countries_2019_2020['Change_2019_2020']*100, color='skyblue')\n",
    "ax[0].set_title('Top 10 Countries with Highest Growth in Trade Value (2019-2020)')\n",
    "ax[0].set_xlabel('% Change')\n",
    "ax[0].invert_yaxis()\n",
    "ax[1].barh(top_countries_2020_2021['Country'], top_countries_2020_2021['Change_2020_2021']*100, color='coral')\n",
    "ax[1].set_title('Top 10 Countries with Highest Growth in Trade Value (2020-2021)')\n",
    "ax[1].set_xlabel('% Change')\n",
    "ax[1].invert_yaxis()\n",
    "\n",
    "plt.tight_layout()\n",
    "#plt.show()"
   ]
  },
  {
   "cell_type": "code",
   "execution_count": 174,
   "id": "e3c9dbc2-1c25-462b-8d13-a2d8a8ad566c",
   "metadata": {},
   "outputs": [],
   "source": [
    "\n",
    "# 1. Overall Trade Trend\n",
    "plt.figure(figsize=(14, 7))\n",
    "for year in [2019, 2020, 2021]:\n",
    "    yearly_data = grouped_data[grouped_data['Year'] == year]\n",
    "    plt.plot(yearly_data['Date'], yearly_data['Cumulative'], label=f'Year {year}')\n",
    "plt.title('Overall Trade Trend (2019-2021)')\n",
    "plt.xlabel('Date')\n",
    "plt.ylabel('Cumulative Trade Value')\n",
    "plt.xticks(yearly_data['Date'][::30], rotation=45)\n",
    "plt.legend()\n",
    "plt.tight_layout()\n",
    "plt.savefig(r\"C:\\Users\\KIIT0001\\Downloads\\COVID-19-Trade-Impact-Data-Analysis-main\\COVID-19-Trade-Impact-Data-Analysis-main\\overall trade trend.png\")\n"
   ]
  },
  {
   "cell_type": "code",
   "execution_count": 175,
   "id": "2b9a0308-3792-4ffa-b384-aac1de1937cb",
   "metadata": {},
   "outputs": [],
   "source": [
    "# 2. Exports vs. Imports\n",
    "plt.figure(figsize=(14, 7))\n",
    "for year in [2019, 2020, 2021]:\n",
    "    for direction in ['Exports', 'Imports']:\n",
    "        subset_data = grouped_direction[(grouped_direction['Year'] == year) & (grouped_direction['Direction'] == direction)]\n",
    "        plt.plot(subset_data['Date'], subset_data['Cumulative'], label=f'{direction} {year}')\n",
    "plt.title('Exports vs. Imports (2019-2021)')\n",
    "plt.xlabel('Date')\n",
    "plt.ylabel('Cumulative Trade Value')\n",
    "plt.xticks(subset_data['Date'][::30], rotation=45)\n",
    "plt.legend()\n",
    "plt.tight_layout()\n",
    "plt.savefig(r\"C:\\Users\\KIIT0001\\Downloads\\COVID-19-Trade-Impact-Data-Analysis-main\\COVID-19-Trade-Impact-Data-Analysis-main\\exports-imports.png\")\n"
   ]
  },
  {
   "cell_type": "code",
   "execution_count": 176,
   "id": "c74b58e0-c2a4-48f0-8449-d125199b6eee",
   "metadata": {},
   "outputs": [],
   "source": [
    "# 3. Top Commodities Affected\n",
    "fig, ax = plt.subplots(2, 1, figsize=(14, 14))\n",
    "ax[0].barh(top_commodities_2019_2020['Commodity'], top_commodities_2019_2020['Change_2019_2020']*100, color='skyblue')\n",
    "ax[0].set_title('Top 10 Commodities with Highest Growth in Trade Value (2019-2020)')\n",
    "ax[0].set_xlabel('% Change')\n",
    "ax[0].invert_yaxis()\n",
    "ax[1].barh(top_commodities_2020_2021['Commodity'], top_commodities_2020_2021['Change_2020_2021']*100, color='coral')\n",
    "ax[1].set_title('Top 10 Commodities with Highest Growth in Trade Value (2020-2021)')\n",
    "ax[1].set_xlabel('% Change')\n",
    "ax[1].invert_yaxis()\n",
    "plt.tight_layout()\n",
    "plt.savefig(r\"C:\\Users\\KIIT0001\\Downloads\\COVID-19-Trade-Impact-Data-Analysis-main\\COVID-19-Trade-Impact-Data-Analysis-main\\top 10 commodities.png\")\n"
   ]
  },
  {
   "cell_type": "code",
   "execution_count": 179,
   "id": "3d8ce404-43ba-41da-acab-9f006e7285a5",
   "metadata": {},
   "outputs": [
    {
     "ename": "ValueError",
     "evalue": "Format 'png ' is not supported (supported formats: eps, jpeg, jpg, pdf, pgf, png, ps, raw, rgba, svg, svgz, tif, tiff, webp)",
     "output_type": "error",
     "traceback": [
      "\u001b[1;31m---------------------------------------------------------------------------\u001b[0m",
      "\u001b[1;31mValueError\u001b[0m                                Traceback (most recent call last)",
      "Cell \u001b[1;32mIn[179], line 12\u001b[0m\n\u001b[0;32m     10\u001b[0m ax[\u001b[38;5;241m1\u001b[39m]\u001b[38;5;241m.\u001b[39minvert_yaxis()\n\u001b[0;32m     11\u001b[0m plt\u001b[38;5;241m.\u001b[39mtight_layout()\n\u001b[1;32m---> 12\u001b[0m \u001b[43mplt\u001b[49m\u001b[38;5;241;43m.\u001b[39;49m\u001b[43msavefig\u001b[49m\u001b[43m(\u001b[49m\u001b[38;5;124;43mr\u001b[39;49m\u001b[38;5;124;43m\"\u001b[39;49m\u001b[38;5;124;43mC:\u001b[39;49m\u001b[38;5;124;43m\\\u001b[39;49m\u001b[38;5;124;43mUsers\u001b[39;49m\u001b[38;5;124;43m\\\u001b[39;49m\u001b[38;5;124;43mKIIT0001\u001b[39;49m\u001b[38;5;124;43m\\\u001b[39;49m\u001b[38;5;124;43mDownloads\u001b[39;49m\u001b[38;5;124;43m\\\u001b[39;49m\u001b[38;5;124;43mCOVID-19-Trade-Impact-Data-Analysis-main\u001b[39;49m\u001b[38;5;124;43m\\\u001b[39;49m\u001b[38;5;124;43mCOVID-19-Trade-Impact-Data-Analysis-main\u001b[39;49m\u001b[38;5;124;43m\\\u001b[39;49m\u001b[38;5;124;43mchange in trade values.png \u001b[39;49m\u001b[38;5;124;43m\"\u001b[39;49m\u001b[43m)\u001b[49m\n",
      "File \u001b[1;32m~\\AppData\\Local\\Programs\\Python\\Python312\\Lib\\site-packages\\matplotlib\\pyplot.py:1228\u001b[0m, in \u001b[0;36msavefig\u001b[1;34m(*args, **kwargs)\u001b[0m\n\u001b[0;32m   1225\u001b[0m fig \u001b[38;5;241m=\u001b[39m gcf()\n\u001b[0;32m   1226\u001b[0m \u001b[38;5;66;03m# savefig default implementation has no return, so mypy is unhappy\u001b[39;00m\n\u001b[0;32m   1227\u001b[0m \u001b[38;5;66;03m# presumably this is here because subclasses can return?\u001b[39;00m\n\u001b[1;32m-> 1228\u001b[0m res \u001b[38;5;241m=\u001b[39m \u001b[43mfig\u001b[49m\u001b[38;5;241;43m.\u001b[39;49m\u001b[43msavefig\u001b[49m\u001b[43m(\u001b[49m\u001b[38;5;241;43m*\u001b[39;49m\u001b[43margs\u001b[49m\u001b[43m,\u001b[49m\u001b[43m \u001b[49m\u001b[38;5;241;43m*\u001b[39;49m\u001b[38;5;241;43m*\u001b[39;49m\u001b[43mkwargs\u001b[49m\u001b[43m)\u001b[49m  \u001b[38;5;66;03m# type: ignore[func-returns-value]\u001b[39;00m\n\u001b[0;32m   1229\u001b[0m fig\u001b[38;5;241m.\u001b[39mcanvas\u001b[38;5;241m.\u001b[39mdraw_idle()  \u001b[38;5;66;03m# Need this if 'transparent=True', to reset colors.\u001b[39;00m\n\u001b[0;32m   1230\u001b[0m \u001b[38;5;28;01mreturn\u001b[39;00m res\n",
      "File \u001b[1;32m~\\AppData\\Local\\Programs\\Python\\Python312\\Lib\\site-packages\\matplotlib\\figure.py:3395\u001b[0m, in \u001b[0;36mFigure.savefig\u001b[1;34m(self, fname, transparent, **kwargs)\u001b[0m\n\u001b[0;32m   3393\u001b[0m     \u001b[38;5;28;01mfor\u001b[39;00m ax \u001b[38;5;129;01min\u001b[39;00m \u001b[38;5;28mself\u001b[39m\u001b[38;5;241m.\u001b[39maxes:\n\u001b[0;32m   3394\u001b[0m         _recursively_make_axes_transparent(stack, ax)\n\u001b[1;32m-> 3395\u001b[0m \u001b[38;5;28;43mself\u001b[39;49m\u001b[38;5;241;43m.\u001b[39;49m\u001b[43mcanvas\u001b[49m\u001b[38;5;241;43m.\u001b[39;49m\u001b[43mprint_figure\u001b[49m\u001b[43m(\u001b[49m\u001b[43mfname\u001b[49m\u001b[43m,\u001b[49m\u001b[43m \u001b[49m\u001b[38;5;241;43m*\u001b[39;49m\u001b[38;5;241;43m*\u001b[39;49m\u001b[43mkwargs\u001b[49m\u001b[43m)\u001b[49m\n",
      "File \u001b[1;32m~\\AppData\\Local\\Programs\\Python\\Python312\\Lib\\site-packages\\matplotlib\\backend_bases.py:2144\u001b[0m, in \u001b[0;36mFigureCanvasBase.print_figure\u001b[1;34m(self, filename, dpi, facecolor, edgecolor, orientation, format, bbox_inches, pad_inches, bbox_extra_artists, backend, **kwargs)\u001b[0m\n\u001b[0;32m   2139\u001b[0m     _api\u001b[38;5;241m.\u001b[39mwarn_deprecated(\n\u001b[0;32m   2140\u001b[0m         \u001b[38;5;124m\"\u001b[39m\u001b[38;5;124m3.8\u001b[39m\u001b[38;5;124m\"\u001b[39m, name\u001b[38;5;241m=\u001b[39m\u001b[38;5;124m\"\u001b[39m\u001b[38;5;124mpapertype=\u001b[39m\u001b[38;5;124m'\u001b[39m\u001b[38;5;124mauto\u001b[39m\u001b[38;5;124m'\u001b[39m\u001b[38;5;124m\"\u001b[39m, addendum\u001b[38;5;241m=\u001b[39m\u001b[38;5;124m\"\u001b[39m\u001b[38;5;124mPass an explicit paper type, \u001b[39m\u001b[38;5;124m\"\u001b[39m\n\u001b[0;32m   2141\u001b[0m         \u001b[38;5;124m\"\u001b[39m\u001b[38;5;124m'\u001b[39m\u001b[38;5;124mfigure\u001b[39m\u001b[38;5;124m'\u001b[39m\u001b[38;5;124m, or omit the *papertype* argument entirely.\u001b[39m\u001b[38;5;124m\"\u001b[39m)\n\u001b[0;32m   2143\u001b[0m \u001b[38;5;66;03m# Remove the figure manager, if any, to avoid resizing the GUI widget.\u001b[39;00m\n\u001b[1;32m-> 2144\u001b[0m \u001b[43m\u001b[49m\u001b[38;5;28;43;01mwith\u001b[39;49;00m\u001b[43m \u001b[49m\u001b[43mcbook\u001b[49m\u001b[38;5;241;43m.\u001b[39;49m\u001b[43m_setattr_cm\u001b[49m\u001b[43m(\u001b[49m\u001b[38;5;28;43mself\u001b[39;49m\u001b[43m,\u001b[49m\u001b[43m \u001b[49m\u001b[43mmanager\u001b[49m\u001b[38;5;241;43m=\u001b[39;49m\u001b[38;5;28;43;01mNone\u001b[39;49;00m\u001b[43m)\u001b[49m\u001b[43m,\u001b[49m\u001b[43m \u001b[49m\u001b[43m\\\u001b[49m\n\u001b[0;32m   2145\u001b[0m \u001b[43m     \u001b[49m\u001b[38;5;28;43mself\u001b[39;49m\u001b[38;5;241;43m.\u001b[39;49m\u001b[43m_switch_canvas_and_return_print_method\u001b[49m\u001b[43m(\u001b[49m\u001b[38;5;28;43mformat\u001b[39;49m\u001b[43m,\u001b[49m\u001b[43m \u001b[49m\u001b[43mbackend\u001b[49m\u001b[43m)\u001b[49m\u001b[43m \u001b[49m\u001b[43m\\\u001b[49m\n\u001b[0;32m   2146\u001b[0m \u001b[43m         \u001b[49m\u001b[38;5;28;43;01mas\u001b[39;49;00m\u001b[43m \u001b[49m\u001b[43mprint_method\u001b[49m\u001b[43m,\u001b[49m\u001b[43m \u001b[49m\u001b[43m\\\u001b[49m\n\u001b[0;32m   2147\u001b[0m \u001b[43m     \u001b[49m\u001b[43mcbook\u001b[49m\u001b[38;5;241;43m.\u001b[39;49m\u001b[43m_setattr_cm\u001b[49m\u001b[43m(\u001b[49m\u001b[38;5;28;43mself\u001b[39;49m\u001b[38;5;241;43m.\u001b[39;49m\u001b[43mfigure\u001b[49m\u001b[43m,\u001b[49m\u001b[43m \u001b[49m\u001b[43mdpi\u001b[49m\u001b[38;5;241;43m=\u001b[39;49m\u001b[43mdpi\u001b[49m\u001b[43m)\u001b[49m\u001b[43m,\u001b[49m\u001b[43m \u001b[49m\u001b[43m\\\u001b[49m\n\u001b[0;32m   2148\u001b[0m \u001b[43m     \u001b[49m\u001b[43mcbook\u001b[49m\u001b[38;5;241;43m.\u001b[39;49m\u001b[43m_setattr_cm\u001b[49m\u001b[43m(\u001b[49m\u001b[38;5;28;43mself\u001b[39;49m\u001b[38;5;241;43m.\u001b[39;49m\u001b[43mfigure\u001b[49m\u001b[38;5;241;43m.\u001b[39;49m\u001b[43mcanvas\u001b[49m\u001b[43m,\u001b[49m\u001b[43m \u001b[49m\u001b[43m_device_pixel_ratio\u001b[49m\u001b[38;5;241;43m=\u001b[39;49m\u001b[38;5;241;43m1\u001b[39;49m\u001b[43m)\u001b[49m\u001b[43m,\u001b[49m\u001b[43m \u001b[49m\u001b[43m\\\u001b[49m\n\u001b[0;32m   2149\u001b[0m \u001b[43m     \u001b[49m\u001b[43mcbook\u001b[49m\u001b[38;5;241;43m.\u001b[39;49m\u001b[43m_setattr_cm\u001b[49m\u001b[43m(\u001b[49m\u001b[38;5;28;43mself\u001b[39;49m\u001b[38;5;241;43m.\u001b[39;49m\u001b[43mfigure\u001b[49m\u001b[38;5;241;43m.\u001b[39;49m\u001b[43mcanvas\u001b[49m\u001b[43m,\u001b[49m\u001b[43m \u001b[49m\u001b[43m_is_saving\u001b[49m\u001b[38;5;241;43m=\u001b[39;49m\u001b[38;5;28;43;01mTrue\u001b[39;49;00m\u001b[43m)\u001b[49m\u001b[43m,\u001b[49m\u001b[43m \u001b[49m\u001b[43m\\\u001b[49m\n\u001b[0;32m   2150\u001b[0m \u001b[43m     \u001b[49m\u001b[43mExitStack\u001b[49m\u001b[43m(\u001b[49m\u001b[43m)\u001b[49m\u001b[43m \u001b[49m\u001b[38;5;28;43;01mas\u001b[39;49;00m\u001b[43m \u001b[49m\u001b[43mstack\u001b[49m\u001b[43m:\u001b[49m\n\u001b[0;32m   2152\u001b[0m \u001b[43m    \u001b[49m\u001b[38;5;28;43;01mfor\u001b[39;49;00m\u001b[43m \u001b[49m\u001b[43mprop\u001b[49m\u001b[43m \u001b[49m\u001b[38;5;129;43;01min\u001b[39;49;00m\u001b[43m \u001b[49m\u001b[43m[\u001b[49m\u001b[38;5;124;43m\"\u001b[39;49m\u001b[38;5;124;43mfacecolor\u001b[39;49m\u001b[38;5;124;43m\"\u001b[39;49m\u001b[43m,\u001b[49m\u001b[43m \u001b[49m\u001b[38;5;124;43m\"\u001b[39;49m\u001b[38;5;124;43medgecolor\u001b[39;49m\u001b[38;5;124;43m\"\u001b[39;49m\u001b[43m]\u001b[49m\u001b[43m:\u001b[49m\n\u001b[0;32m   2153\u001b[0m \u001b[43m        \u001b[49m\u001b[43mcolor\u001b[49m\u001b[43m \u001b[49m\u001b[38;5;241;43m=\u001b[39;49m\u001b[43m \u001b[49m\u001b[38;5;28;43mlocals\u001b[39;49m\u001b[43m(\u001b[49m\u001b[43m)\u001b[49m\u001b[43m[\u001b[49m\u001b[43mprop\u001b[49m\u001b[43m]\u001b[49m\n",
      "File \u001b[1;32m~\\AppData\\Local\\Programs\\Python\\Python312\\Lib\\contextlib.py:137\u001b[0m, in \u001b[0;36m_GeneratorContextManager.__enter__\u001b[1;34m(self)\u001b[0m\n\u001b[0;32m    135\u001b[0m \u001b[38;5;28;01mdel\u001b[39;00m \u001b[38;5;28mself\u001b[39m\u001b[38;5;241m.\u001b[39margs, \u001b[38;5;28mself\u001b[39m\u001b[38;5;241m.\u001b[39mkwds, \u001b[38;5;28mself\u001b[39m\u001b[38;5;241m.\u001b[39mfunc\n\u001b[0;32m    136\u001b[0m \u001b[38;5;28;01mtry\u001b[39;00m:\n\u001b[1;32m--> 137\u001b[0m     \u001b[38;5;28;01mreturn\u001b[39;00m \u001b[38;5;28;43mnext\u001b[39;49m\u001b[43m(\u001b[49m\u001b[38;5;28;43mself\u001b[39;49m\u001b[38;5;241;43m.\u001b[39;49m\u001b[43mgen\u001b[49m\u001b[43m)\u001b[49m\n\u001b[0;32m    138\u001b[0m \u001b[38;5;28;01mexcept\u001b[39;00m \u001b[38;5;167;01mStopIteration\u001b[39;00m:\n\u001b[0;32m    139\u001b[0m     \u001b[38;5;28;01mraise\u001b[39;00m \u001b[38;5;167;01mRuntimeError\u001b[39;00m(\u001b[38;5;124m\"\u001b[39m\u001b[38;5;124mgenerator didn\u001b[39m\u001b[38;5;124m'\u001b[39m\u001b[38;5;124mt yield\u001b[39m\u001b[38;5;124m\"\u001b[39m) \u001b[38;5;28;01mfrom\u001b[39;00m \u001b[38;5;28;01mNone\u001b[39;00m\n",
      "File \u001b[1;32m~\\AppData\\Local\\Programs\\Python\\Python312\\Lib\\site-packages\\matplotlib\\backend_bases.py:2040\u001b[0m, in \u001b[0;36mFigureCanvasBase._switch_canvas_and_return_print_method\u001b[1;34m(self, fmt, backend)\u001b[0m\n\u001b[0;32m   2038\u001b[0m     canvas_class \u001b[38;5;241m=\u001b[39m get_registered_canvas_class(fmt)\n\u001b[0;32m   2039\u001b[0m     \u001b[38;5;28;01mif\u001b[39;00m canvas_class \u001b[38;5;129;01mis\u001b[39;00m \u001b[38;5;28;01mNone\u001b[39;00m:\n\u001b[1;32m-> 2040\u001b[0m         \u001b[38;5;28;01mraise\u001b[39;00m \u001b[38;5;167;01mValueError\u001b[39;00m(\n\u001b[0;32m   2041\u001b[0m             \u001b[38;5;124m\"\u001b[39m\u001b[38;5;124mFormat \u001b[39m\u001b[38;5;132;01m{!r}\u001b[39;00m\u001b[38;5;124m is not supported (supported formats: \u001b[39m\u001b[38;5;132;01m{}\u001b[39;00m\u001b[38;5;124m)\u001b[39m\u001b[38;5;124m\"\u001b[39m\u001b[38;5;241m.\u001b[39mformat(\n\u001b[0;32m   2042\u001b[0m                 fmt, \u001b[38;5;124m\"\u001b[39m\u001b[38;5;124m, \u001b[39m\u001b[38;5;124m\"\u001b[39m\u001b[38;5;241m.\u001b[39mjoin(\u001b[38;5;28msorted\u001b[39m(\u001b[38;5;28mself\u001b[39m\u001b[38;5;241m.\u001b[39mget_supported_filetypes()))))\n\u001b[0;32m   2043\u001b[0m     canvas \u001b[38;5;241m=\u001b[39m canvas_class(\u001b[38;5;28mself\u001b[39m\u001b[38;5;241m.\u001b[39mfigure)\n\u001b[0;32m   2044\u001b[0m canvas\u001b[38;5;241m.\u001b[39m_is_saving \u001b[38;5;241m=\u001b[39m \u001b[38;5;28mself\u001b[39m\u001b[38;5;241m.\u001b[39m_is_saving\n",
      "\u001b[1;31mValueError\u001b[0m: Format 'png ' is not supported (supported formats: eps, jpeg, jpg, pdf, pgf, png, ps, raw, rgba, svg, svgz, tif, tiff, webp)"
     ]
    }
   ],
   "source": [
    "# 4. Transport Mode Analysis\n",
    "fig, ax = plt.subplots(2, 1, figsize=(14, 14))\n",
    "ax[0].barh(transport_data[transport_data['Year'] == 2020]['Transport_Mode'], transport_data[transport_data['Year'] == 2020]['Change_2019_2020']*100, color='skyblue')\n",
    "ax[0].set_title('Change in Trade Value by Transport Mode (2019-2020)')\n",
    "ax[0].set_xlabel('% Change')\n",
    "ax[0].invert_yaxis()\n",
    "ax[1].barh(transport_data[transport_data['Year'] == 2021]['Transport_Mode'], transport_data[transport_data['Year'] == 2021]['Change_2020_2021']*100, color='coral')\n",
    "ax[1].set_title('Change in Trade Value by Transport Mode (2020-2021)')\n",
    "ax[1].set_xlabel('% Change')\n",
    "ax[1].invert_yaxis()\n",
    "plt.tight_layout()\n",
    "plt.savefig(r\"C:\\Users\\KIIT0001\\Downloads\\COVID-19-Trade-Impact-Data-Analysis-main\\COVID-19-Trade-Impact-Data-Analysis-main\\change in trade values.png \")\n"
   ]
  },
  {
   "cell_type": "code",
   "execution_count": 180,
   "id": "90e32f03-0aa8-4a8f-8893-1bf009122de1",
   "metadata": {},
   "outputs": [],
   "source": [
    "# 5. Country Analysis\n",
    "fig, ax = plt.subplots(2, 1, figsize=(14, 14))\n",
    "ax[0].barh(top_countries_2019_2020['Country'], top_countries_2019_2020['Change_2019_2020']*100, color='skyblue')\n",
    "ax[0].set_title('Top 10 Countries with Highest Growth in Trade Value (2019-2020)')\n",
    "ax[0].set_xlabel('% Change')\n",
    "ax[0].invert_yaxis()\n",
    "ax[1].barh(top_countries_2020_2021['Country'], top_countries_2020_2021['Change_2020_2021']*100, color='coral')\n",
    "ax[1].set_title('Top 10 Countries with Highest Growth in Trade Value (2020-2021)')\n",
    "ax[1].set_xlabel('% Change')\n",
    "ax[1].invert_yaxis()\n",
    "plt.tight_layout()\n",
    "plt.savefig(r\"C:\\Users\\KIIT0001\\Downloads\\COVID-19-Trade-Impact-Data-Analysis-main\\COVID-19-Trade-Impact-Data-Analysis-main\\top 10 countries with highest growth in trade value.png\")"
   ]
  },
  {
   "cell_type": "code",
   "execution_count": 181,
   "id": "00b73acb-603f-4732-9f8f-c439fb885d3b",
   "metadata": {},
   "outputs": [],
   "source": [
    "# List of saved PNG files\n",
    "\n",
    "# Save the analysis to a Jupyter notebook (.ipynb) format\n",
    "notebook_path = r\"C:\\Users\\KIIT0001\\Downloads\\COVID-19-Trade-Impact-Data-Analysis-main\\COVID-19-Trade-Impact-Data-Analysis-main\\.ipynb_checkpoints\\covid_19_trade_impact_analysiss-checkpoint.ipynb\"\n"
   ]
  },
  {
   "cell_type": "code",
   "execution_count": 182,
   "id": "5bb9bb40-177c-4fcd-95d0-460d262ea306",
   "metadata": {},
   "outputs": [
    {
     "name": "stdout",
     "output_type": "stream",
     "text": [
      "Requirement already satisfied: ipywidgets in c:\\users\\kiit0001\\appdata\\local\\programs\\python\\python312\\lib\\site-packages (8.1.3)\n",
      "Requirement already satisfied: comm>=0.1.3 in c:\\users\\kiit0001\\appdata\\local\\programs\\python\\python312\\lib\\site-packages (from ipywidgets) (0.2.1)\n",
      "Requirement already satisfied: ipython>=6.1.0 in c:\\users\\kiit0001\\appdata\\local\\programs\\python\\python312\\lib\\site-packages (from ipywidgets) (8.21.0)\n",
      "Requirement already satisfied: traitlets>=4.3.1 in c:\\users\\kiit0001\\appdata\\local\\programs\\python\\python312\\lib\\site-packages (from ipywidgets) (5.14.1)\n",
      "Requirement already satisfied: widgetsnbextension~=4.0.11 in c:\\users\\kiit0001\\appdata\\local\\programs\\python\\python312\\lib\\site-packages (from ipywidgets) (4.0.11)\n",
      "Requirement already satisfied: jupyterlab-widgets~=3.0.11 in c:\\users\\kiit0001\\appdata\\local\\programs\\python\\python312\\lib\\site-packages (from ipywidgets) (3.0.11)\n",
      "Requirement already satisfied: decorator in c:\\users\\kiit0001\\appdata\\local\\programs\\python\\python312\\lib\\site-packages (from ipython>=6.1.0->ipywidgets) (5.1.1)\n",
      "Requirement already satisfied: jedi>=0.16 in c:\\users\\kiit0001\\appdata\\local\\programs\\python\\python312\\lib\\site-packages (from ipython>=6.1.0->ipywidgets) (0.19.1)\n",
      "Requirement already satisfied: matplotlib-inline in c:\\users\\kiit0001\\appdata\\local\\programs\\python\\python312\\lib\\site-packages (from ipython>=6.1.0->ipywidgets) (0.1.6)\n",
      "Requirement already satisfied: prompt-toolkit<3.1.0,>=3.0.41 in c:\\users\\kiit0001\\appdata\\local\\programs\\python\\python312\\lib\\site-packages (from ipython>=6.1.0->ipywidgets) (3.0.43)\n",
      "Requirement already satisfied: pygments>=2.4.0 in c:\\users\\kiit0001\\appdata\\local\\programs\\python\\python312\\lib\\site-packages (from ipython>=6.1.0->ipywidgets) (2.17.2)\n",
      "Requirement already satisfied: stack-data in c:\\users\\kiit0001\\appdata\\local\\programs\\python\\python312\\lib\\site-packages (from ipython>=6.1.0->ipywidgets) (0.6.3)\n",
      "Requirement already satisfied: colorama in c:\\users\\kiit0001\\appdata\\local\\programs\\python\\python312\\lib\\site-packages (from ipython>=6.1.0->ipywidgets) (0.4.6)\n",
      "Requirement already satisfied: wcwidth in c:\\users\\kiit0001\\appdata\\local\\programs\\python\\python312\\lib\\site-packages (from prompt-toolkit<3.1.0,>=3.0.41->ipython>=6.1.0->ipywidgets) (0.2.13)\n",
      "Requirement already satisfied: parso<0.9.0,>=0.8.3 in c:\\users\\kiit0001\\appdata\\local\\programs\\python\\python312\\lib\\site-packages (from jedi>=0.16->ipython>=6.1.0->ipywidgets) (0.8.3)\n",
      "Requirement already satisfied: executing>=1.2.0 in c:\\users\\kiit0001\\appdata\\local\\programs\\python\\python312\\lib\\site-packages (from stack-data->ipython>=6.1.0->ipywidgets) (2.0.1)\n",
      "Requirement already satisfied: asttokens>=2.1.0 in c:\\users\\kiit0001\\appdata\\local\\programs\\python\\python312\\lib\\site-packages (from stack-data->ipython>=6.1.0->ipywidgets) (2.4.1)\n",
      "Requirement already satisfied: pure-eval in c:\\users\\kiit0001\\appdata\\local\\programs\\python\\python312\\lib\\site-packages (from stack-data->ipython>=6.1.0->ipywidgets) (0.2.2)\n",
      "Requirement already satisfied: six>=1.12.0 in c:\\users\\kiit0001\\appdata\\local\\programs\\python\\python312\\lib\\site-packages (from asttokens>=2.1.0->stack-data->ipython>=6.1.0->ipywidgets) (1.16.0)\n"
     ]
    }
   ],
   "source": [
    "!pip install ipywidgets\n",
    "\n"
   ]
  },
  {
   "cell_type": "code",
   "execution_count": 183,
   "id": "16d066fc-8b89-4dfb-b475-600d8f1ec5ac",
   "metadata": {},
   "outputs": [],
   "source": [
    "import io\n",
    "import nbformat\n",
    "from IPython import get_ipython\n",
    "\n",
    "\n",
    "# 3. Capture current IPython session commands\n",
    "ipython = get_ipython()\n",
    "history = ipython.history_manager.input_hist_parsed\n",
    "\n",
    "# 4. Create a new notebook object\n",
    "notebook_content = nbformat.v4.new_notebook()\n",
    "\n",
    "# Optional: Add saved file paths as a markdown cell first\n",
    "notebook_content.cells.append(\n",
    "    nbformat.v4.new_markdown_cell(\"## Saved Plots:\\n\" + '\\n'.join(f\"- {file}\" for file in saved_files))\n",
    ")\n"
   ]
  },
  {
   "cell_type": "code",
   "execution_count": 184,
   "id": "a6bbe8d6-bb87-438b-8f5e-d1475d9a3b8d",
   "metadata": {},
   "outputs": [],
   "source": [
    "\n",
    "# 5. Add the current code history as a single code cell\n",
    "notebook_content.cells.append(\n",
    "    nbformat.v4.new_code_cell('\\n'.join(history))\n",
    ")\n",
    "\n",
    "# 6. Write the notebook to file\n",
    "with io.open(notebook_path, 'wt', encoding='utf-8') as f:\n",
    "    nbformat.write(notebook_content, f)\n",
    "\n"
   ]
  },
  {
   "cell_type": "code",
   "execution_count": 185,
   "id": "6453d5c2-55e4-4c83-9749-34ace5b75050",
   "metadata": {},
   "outputs": [
    {
     "data": {
      "text/plain": [
       "'C:\\\\Users\\\\KIIT0001\\\\Downloads\\\\COVID-19-Trade-Impact-Data-Analysis-main\\\\COVID-19-Trade-Impact-Data-Analysis-main\\\\.ipynb_checkpoints\\\\covid_19_trade_impact_analysiss-checkpoint.ipynb'"
      ]
     },
     "execution_count": 185,
     "metadata": {},
     "output_type": "execute_result"
    }
   ],
   "source": [
    "\n",
    "\n",
    "# 8. Output the path where the notebook is saved\n",
    "notebook_path\n"
   ]
  },
  {
   "cell_type": "code",
   "execution_count": null,
   "id": "3e9ebc2d-b212-4f1e-85c6-65ae59583103",
   "metadata": {},
   "outputs": [],
   "source": []
  },
  {
   "cell_type": "code",
   "execution_count": null,
   "id": "c6cd4c0b-6e27-4207-b1d2-3967786c7420",
   "metadata": {},
   "outputs": [],
   "source": []
  },
  {
   "cell_type": "code",
   "execution_count": null,
   "id": "e22175e4-a3a3-4c69-8227-81dd350f7303",
   "metadata": {},
   "outputs": [],
   "source": []
  },
  {
   "cell_type": "code",
   "execution_count": null,
   "id": "3be717ab-6d8d-4ba7-93f7-4a0c569dcefc",
   "metadata": {},
   "outputs": [],
   "source": []
  },
  {
   "cell_type": "code",
   "execution_count": null,
   "id": "d7a9c6ba-0101-40e2-9acf-b3b14707ab1b",
   "metadata": {},
   "outputs": [],
   "source": []
  }
 ],
 "metadata": {
  "kernelspec": {
   "display_name": "Python 3 (ipykernel)",
   "language": "python",
   "name": "python3"
  },
  "language_info": {
   "codemirror_mode": {
    "name": "ipython",
    "version": 3
   },
   "file_extension": ".py",
   "mimetype": "text/x-python",
   "name": "python",
   "nbconvert_exporter": "python",
   "pygments_lexer": "ipython3",
   "version": "3.12.6"
  }
 },
 "nbformat": 4,
 "nbformat_minor": 5
}
